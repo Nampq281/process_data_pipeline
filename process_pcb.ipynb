{
 "cells": [
  {
   "cell_type": "code",
   "execution_count": null,
   "id": "570aeb74-0431-412c-bf55-ee256edd4c39",
   "metadata": {},
   "outputs": [],
   "source": [
    "import polars as pl\n",
    "import pandas as pd\n",
    "import datetime \n",
    "from datetime import datetime as dt\n",
    "\n",
    "import xmltodict\n",
    "import json"
   ]
  },
  {
   "cell_type": "code",
   "execution_count": null,
   "id": "85fdc952-bcb9-4625-982e-6c14671019e2",
   "metadata": {},
   "outputs": [],
   "source": [
    "import pandas as pd\n",
    "\n",
    "df=pd.read_csv(r'root_sample.csv')"
   ]
  },
  {
   "cell_type": "code",
   "execution_count": null,
   "id": "8911e214-e413-4e04-a369-d028434a0550",
   "metadata": {
    "scrolled": true
   },
   "outputs": [],
   "source": [
    "df.info(verbose=True)"
   ]
  },
  {
   "cell_type": "code",
   "execution_count": null,
   "id": "9a2a1202-15c9-4135-984b-42b620ecfc68",
   "metadata": {},
   "outputs": [],
   "source": []
  },
  {
   "cell_type": "code",
   "execution_count": null,
   "id": "4755e480-a370-4796-ac23-4ebb24c3a8eb",
   "metadata": {},
   "outputs": [],
   "source": []
  },
  {
   "cell_type": "code",
   "execution_count": null,
   "id": "7be20c78-4465-44fc-b146-df58a406d297",
   "metadata": {},
   "outputs": [],
   "source": [
    "import prefect"
   ]
  },
  {
   "cell_type": "code",
   "execution_count": null,
   "id": "20976b55-d77c-45db-bbbc-df15a4092aa8",
   "metadata": {},
   "outputs": [],
   "source": [
    "from src.utils import *"
   ]
  },
  {
   "cell_type": "code",
   "execution_count": null,
   "id": "be85de05-5900-400c-a0a1-c2a549a68b81",
   "metadata": {},
   "outputs": [],
   "source": [
    "import os\n",
    "os.getcwd()"
   ]
  },
  {
   "cell_type": "code",
   "execution_count": null,
   "id": "9873f140-5f64-4f2f-9710-4b7695b1907e",
   "metadata": {},
   "outputs": [],
   "source": [
    "df = pd.read_csv(r'pcb_2024_T01_T06.csv', nrows=1000)"
   ]
  },
  {
   "cell_type": "code",
   "execution_count": null,
   "id": "06f542a4-1b66-4a76-be49-77703ea9bd04",
   "metadata": {},
   "outputs": [],
   "source": [
    "def conso_id(id1, id2):\n",
    "    if id1 == \"'\":\n",
    "        final_id = id2\n",
    "    elif id2 == \"'\":\n",
    "        final_id = id1\n",
    "    else:\n",
    "        if id1 == id2:\n",
    "            final_id = id1\n",
    "        else:\n",
    "            final_id = id1+\"_\"+id2\n",
    "    return final_id"
   ]
  },
  {
   "cell_type": "code",
   "execution_count": null,
   "id": "203756a6-8b5c-4be2-8bde-29b7f3f13d83",
   "metadata": {},
   "outputs": [],
   "source": [
    "def get_log(row):\n",
    "    full_message = xmltodict.parse(row)\n",
    "    try:\n",
    "        to_dict = full_message['MGResponse']['RI_Req_Output']['CreditHistory']\n",
    "    except:\n",
    "        to_dict = full_message['MGResponse']['CI_Req_Output']['CreditHistory']\n",
    "    return str(to_dict)"
   ]
  },
  {
   "cell_type": "code",
   "execution_count": null,
   "id": "5d76b011-00fc-4cf6-a2a8-f3df54901426",
   "metadata": {},
   "outputs": [],
   "source": [
    "df.columns = ['id1', 'id2', 'name', 'address', 'log', 'process_date']"
   ]
  },
  {
   "cell_type": "code",
   "execution_count": null,
   "id": "e0328740-1406-4848-beaa-20c73f14ff82",
   "metadata": {},
   "outputs": [],
   "source": [
    "df['process_date'] = df['process_date'].astype(str)"
   ]
  },
  {
   "cell_type": "code",
   "execution_count": null,
   "id": "d73838c5-6858-4488-972b-01c28949172d",
   "metadata": {
    "scrolled": true
   },
   "outputs": [],
   "source": [
    "df['cccd'] = df[['id1', 'id2']].apply(lambda \n",
    "                                      row: conso_id(row.id1, row.id2),\n",
    "                                      axis=1\n",
    "                                     )"
   ]
  },
  {
   "cell_type": "code",
   "execution_count": null,
   "id": "dbf152ad-2611-4d71-a06e-ab29486652e5",
   "metadata": {},
   "outputs": [],
   "source": [
    "df['pcb'] = df['log'].apply(lambda row: get_log(row))"
   ]
  },
  {
   "cell_type": "code",
   "execution_count": null,
   "id": "5daa85ae-b999-4750-b78a-9cd0a4a70449",
   "metadata": {},
   "outputs": [],
   "source": [
    "from pip._vendor.rich.progress import (\n",
    "    Progress, SpinnerColumn, TimeElapsedColumn\n",
    ")\n",
    "\n",
    "def parse_data(process_name, df_in, field, id_lst):\n",
    "    try:\n",
    "        df_holder = []\n",
    "        total_rows = len(df_in)\n",
    "\n",
    "        with Progress(SpinnerColumn(), *Progress.get_default_columns(), TimeElapsedColumn(), transient=False) as progress:\n",
    "            task = progress.add_task(f\"Parsing {process_name}\", total=total_rows)\n",
    "            def process_row(row):    \n",
    "                explode_nest(df_holder, id_lst, row, row[field[0]])\n",
    "                progress.update(task, advance=1)\n",
    "                \n",
    "            df_in[id_lst + field].apply(process_row, axis=1)\n",
    "            df_out = pd.concat(df_holder)\n",
    "            df_out = df_out.replace('null', np.nan)\n",
    "    except KeyError:\n",
    "        df_out = pd.DataFrame()\n",
    "    return df_out\n",
    "\n",
    "def gen_id_level2(df):\n",
    "    return df['cccd'].astype(str) + '_' + df['CommonData.CBContractCode']\n",
    "\n",
    "def treat_dtype(df, col):\n",
    "    try:\n",
    "        df[col] = df[col].astype(str)\n",
    "    except KeyError:\n",
    "        pass"
   ]
  },
  {
   "cell_type": "code",
   "execution_count": null,
   "id": "d8e7bd1f-add5-47ad-9d05-f9f9f65379b7",
   "metadata": {},
   "outputs": [],
   "source": [
    "field = ['pcb']\n",
    "id_col_list = ['cccd', 'process_date']\n",
    "\n",
    "df_root = parse_data('root', df, field, id_col_list)"
   ]
  },
  {
   "cell_type": "code",
   "execution_count": null,
   "id": "81537e46-fc4f-4223-a31d-800d2f29cc43",
   "metadata": {},
   "outputs": [],
   "source": [
    "dtype_treat_lst = ['Contract.Instalments.GrantedContract',\n",
    "                  'Contract.Cards.GrantedContract',\n",
    "                  'Contract.NonInstalments.GrantedContract',\n",
    "                  'Contract.Instalments.NotGrantedContract',\n",
    "                  'Contract.Cards.NotGrantedContract',\n",
    "                  'Contract.NonInstalments.NotGrantedContract']\n",
    "for i in dtype_treat_lst:\n",
    "    treat_dtype(df_root, i)"
   ]
  },
  {
   "cell_type": "code",
   "execution_count": null,
   "id": "62e5e48d-896c-4ece-827e-366eb3aabbe9",
   "metadata": {
    "scrolled": true
   },
   "outputs": [],
   "source": [
    "id_col_list = ['cccd', 'process_date']\n",
    "\n",
    "contract_level_noninstall = parse_data('nonins', df_root, ['Contract.NonInstalments.GrantedContract'], id_col_list)\n",
    "contract_level_install = parse_data('ins', df_root, ['Contract.Instalments.GrantedContract'], id_col_list)\n",
    "contract_level_card = parse_data('card', df_root, ['Contract.Cards.GrantedContract'], id_col_list)\n",
    "\n",
    "not_grant_install = parse_data('ng_ins', df_root, ['Contract.Instalments.NotGrantedContract'], id_col_list)\n",
    "not_grant_noninstall = parse_data('ng_nonins', df_root, ['Contract.NonInstalments.NotGrantedContract'], id_col_list)\n",
    "not_grant_card = parse_data('ng_card', df_root, ['Contract.Cards.NotGrantedContract'], id_col_list)"
   ]
  },
  {
   "cell_type": "code",
   "execution_count": null,
   "id": "02d92b29-da8b-4b82-aab7-50063f4aa186",
   "metadata": {},
   "outputs": [],
   "source": [
    "contract_level_noninstall['loan_code_lv2'] = gen_id_level2(contract_level_noninstall)\n",
    "contract_level_install['loan_code_lv2'] = gen_id_level2(contract_level_install)\n",
    "contract_level_card['loan_code_lv2'] = gen_id_level2(contract_level_card)\n",
    "\n",
    "treat_dtype(contract_level_install, 'Profiles')\n",
    "treat_dtype(contract_level_install, 'InstGuarantees')\n",
    "treat_dtype(contract_level_card, 'Profiles')\n",
    "treat_dtype(contract_level_card, 'CardsGuarantees')\n",
    "treat_dtype(contract_level_noninstall, 'Profiles')"
   ]
  },
  {
   "cell_type": "code",
   "execution_count": null,
   "id": "b91d3fa1-1f25-4614-9937-2f1b3e3a4197",
   "metadata": {},
   "outputs": [],
   "source": [
    "contract_level_card = contract_level_card[~contract_level_card['loan_code_lv2'].isna()]\n",
    "contract_level_noninstall = contract_level_noninstall[~contract_level_noninstall['loan_code_lv2'].isna()]\n",
    "contract_level_install = contract_level_install[~contract_level_install['loan_code_lv2'].isna()]  "
   ]
  },
  {
   "cell_type": "code",
   "execution_count": null,
   "id": "50c368de-4e8e-4234-ba8f-027c91bc351a",
   "metadata": {},
   "outputs": [],
   "source": [
    "field = ['Profiles']\n",
    "id_col_list = ['loan_code_lv2', 'cccd', 'CommonData.CBContractCode', 'process_date']\n",
    "\n",
    "ts_card = parse_data('ts_card', contract_level_card, field, id_col_list)\n",
    "ts_install = parse_data('ts_ins', contract_level_install, field, id_col_list)\n",
    "ts_noninstall = parse_data('ts_nonins', contract_level_noninstall, field, id_col_list)"
   ]
  },
  {
   "cell_type": "code",
   "execution_count": null,
   "id": "86c4ef6a-6b0a-41fa-ab5c-d9aa36f91eaa",
   "metadata": {
    "scrolled": true
   },
   "outputs": [],
   "source": [
    "ts_card"
   ]
  },
  {
   "cell_type": "code",
   "execution_count": null,
   "id": "953f7c35-5bd2-4aee-94f9-21e572ffa465",
   "metadata": {},
   "outputs": [],
   "source": [
    "df_root.head()"
   ]
  },
  {
   "cell_type": "code",
   "execution_count": null,
   "id": "d3bf7347-204e-474d-bd60-c168c84b3f4f",
   "metadata": {},
   "outputs": [],
   "source": []
  }
 ],
 "metadata": {
  "kernelspec": {
   "display_name": "data_process",
   "language": "python",
   "name": "data_process"
  },
  "language_info": {
   "codemirror_mode": {
    "name": "ipython",
    "version": 3
   },
   "file_extension": ".py",
   "mimetype": "text/x-python",
   "name": "python",
   "nbconvert_exporter": "python",
   "pygments_lexer": "ipython3",
   "version": "3.9.12"
  }
 },
 "nbformat": 4,
 "nbformat_minor": 5
}
