{
 "cells": [
  {
   "cell_type": "code",
   "execution_count": 1,
   "id": "284a45d5-1288-4a6a-a29f-54cab43f8f21",
   "metadata": {},
   "outputs": [],
   "source": [
    "from prefect import task, flow\n",
    "from prefect.futures import wait\n",
    "\n",
    "\n",
    "@task\n",
    "def cool_task():\n",
    "    return \"sup\"\n",
    "    \n",
    "    \n",
    "@flow\n",
    "def my_workflow():\n",
    "    futures = [cool_task.submit() for _ in range(10)]\n",
    "    wait(futures)"
   ]
  },
  {
   "cell_type": "code",
   "execution_count": 2,
   "id": "d6b8b6fa-6934-4d20-a5bf-868bdea3d901",
   "metadata": {},
   "outputs": [
    {
     "data": {
      "text/html": [
       "<pre style=\"white-space:pre;overflow-x:auto;line-height:normal;font-family:Menlo,'DejaVu Sans Mono',consolas,'Courier New',monospace\">11:28:02.001 | <span style=\"color: #008080; text-decoration-color: #008080\">INFO</span>    | Flow run<span style=\"color: #800080; text-decoration-color: #800080\"> 'powerful-galago'</span> - Beginning flow run<span style=\"color: #800080; text-decoration-color: #800080\"> 'powerful-galago'</span> for flow<span style=\"color: #800080; text-decoration-color: #800080; font-weight: bold\"> 'my-workflow'</span>\n",
       "</pre>\n"
      ],
      "text/plain": [
       "11:28:02.001 | \u001b[36mINFO\u001b[0m    | Flow run\u001b[35m 'powerful-galago'\u001b[0m - Beginning flow run\u001b[35m 'powerful-galago'\u001b[0m for flow\u001b[1;35m 'my-workflow'\u001b[0m\n"
      ]
     },
     "metadata": {},
     "output_type": "display_data"
    },
    {
     "data": {
      "text/html": [
       "<pre style=\"white-space:pre;overflow-x:auto;line-height:normal;font-family:Menlo,'DejaVu Sans Mono',consolas,'Courier New',monospace\">11:28:02.009 | <span style=\"color: #008080; text-decoration-color: #008080\">INFO</span>    | Flow run<span style=\"color: #800080; text-decoration-color: #800080\"> 'powerful-galago'</span> - View at <span style=\"color: #0000ff; text-decoration-color: #0000ff\">https://app.prefect.cloud/account/1e0d3866-a1b9-49f0-899b-324c7cb6ba09/workspace/9dfbb556-ff83-47fd-9eee-9a6cb9a1fe54/runs/flow-run/0686f415-13c6-70df-8000-15db5d228d38</span>\n",
       "</pre>\n"
      ],
      "text/plain": [
       "11:28:02.009 | \u001b[36mINFO\u001b[0m    | Flow run\u001b[35m 'powerful-galago'\u001b[0m - View at \u001b[94mhttps://app.prefect.cloud/account/1e0d3866-a1b9-49f0-899b-324c7cb6ba09/workspace/9dfbb556-ff83-47fd-9eee-9a6cb9a1fe54/runs/flow-run/0686f415-13c6-70df-8000-15db5d228d38\u001b[0m\n"
      ]
     },
     "metadata": {},
     "output_type": "display_data"
    },
    {
     "data": {
      "text/html": [
       "<pre style=\"white-space:pre;overflow-x:auto;line-height:normal;font-family:Menlo,'DejaVu Sans Mono',consolas,'Courier New',monospace\">11:28:02.124 | <span style=\"color: #008080; text-decoration-color: #008080\">INFO</span>    | Task run 'cool_task-1aa' - Finished in state <span style=\"color: #008000; text-decoration-color: #008000\">Completed</span>()\n",
       "</pre>\n"
      ],
      "text/plain": [
       "11:28:02.124 | \u001b[36mINFO\u001b[0m    | Task run 'cool_task-1aa' - Finished in state \u001b[32mCompleted\u001b[0m()\n"
      ]
     },
     "metadata": {},
     "output_type": "display_data"
    },
    {
     "data": {
      "text/html": [
       "<pre style=\"white-space:pre;overflow-x:auto;line-height:normal;font-family:Menlo,'DejaVu Sans Mono',consolas,'Courier New',monospace\">11:28:02.127 | <span style=\"color: #008080; text-decoration-color: #008080\">INFO</span>    | Task run 'cool_task-7b7' - Finished in state <span style=\"color: #008000; text-decoration-color: #008000\">Completed</span>()\n",
       "</pre>\n"
      ],
      "text/plain": [
       "11:28:02.127 | \u001b[36mINFO\u001b[0m    | Task run 'cool_task-7b7' - Finished in state \u001b[32mCompleted\u001b[0m()\n"
      ]
     },
     "metadata": {},
     "output_type": "display_data"
    },
    {
     "data": {
      "text/html": [
       "<pre style=\"white-space:pre;overflow-x:auto;line-height:normal;font-family:Menlo,'DejaVu Sans Mono',consolas,'Courier New',monospace\">11:28:02.129 | <span style=\"color: #008080; text-decoration-color: #008080\">INFO</span>    | Task run 'cool_task-bcf' - Finished in state <span style=\"color: #008000; text-decoration-color: #008000\">Completed</span>()\n",
       "</pre>\n"
      ],
      "text/plain": [
       "11:28:02.129 | \u001b[36mINFO\u001b[0m    | Task run 'cool_task-bcf' - Finished in state \u001b[32mCompleted\u001b[0m()\n"
      ]
     },
     "metadata": {},
     "output_type": "display_data"
    },
    {
     "data": {
      "text/html": [
       "<pre style=\"white-space:pre;overflow-x:auto;line-height:normal;font-family:Menlo,'DejaVu Sans Mono',consolas,'Courier New',monospace\">11:28:02.130 | <span style=\"color: #008080; text-decoration-color: #008080\">INFO</span>    | Task run 'cool_task-81e' - Finished in state <span style=\"color: #008000; text-decoration-color: #008000\">Completed</span>()\n",
       "</pre>\n"
      ],
      "text/plain": [
       "11:28:02.130 | \u001b[36mINFO\u001b[0m    | Task run 'cool_task-81e' - Finished in state \u001b[32mCompleted\u001b[0m()\n"
      ]
     },
     "metadata": {},
     "output_type": "display_data"
    },
    {
     "data": {
      "text/html": [
       "<pre style=\"white-space:pre;overflow-x:auto;line-height:normal;font-family:Menlo,'DejaVu Sans Mono',consolas,'Courier New',monospace\">11:28:02.136 | <span style=\"color: #008080; text-decoration-color: #008080\">INFO</span>    | Task run 'cool_task-823' - Finished in state <span style=\"color: #008000; text-decoration-color: #008000\">Completed</span>()\n",
       "</pre>\n"
      ],
      "text/plain": [
       "11:28:02.136 | \u001b[36mINFO\u001b[0m    | Task run 'cool_task-823' - Finished in state \u001b[32mCompleted\u001b[0m()\n"
      ]
     },
     "metadata": {},
     "output_type": "display_data"
    },
    {
     "data": {
      "text/html": [
       "<pre style=\"white-space:pre;overflow-x:auto;line-height:normal;font-family:Menlo,'DejaVu Sans Mono',consolas,'Courier New',monospace\">11:28:02.138 | <span style=\"color: #008080; text-decoration-color: #008080\">INFO</span>    | Task run 'cool_task-8f9' - Finished in state <span style=\"color: #008000; text-decoration-color: #008000\">Completed</span>()\n",
       "</pre>\n"
      ],
      "text/plain": [
       "11:28:02.138 | \u001b[36mINFO\u001b[0m    | Task run 'cool_task-8f9' - Finished in state \u001b[32mCompleted\u001b[0m()\n"
      ]
     },
     "metadata": {},
     "output_type": "display_data"
    },
    {
     "data": {
      "text/html": [
       "<pre style=\"white-space:pre;overflow-x:auto;line-height:normal;font-family:Menlo,'DejaVu Sans Mono',consolas,'Courier New',monospace\">11:28:02.139 | <span style=\"color: #008080; text-decoration-color: #008080\">INFO</span>    | Task run 'cool_task-06a' - Finished in state <span style=\"color: #008000; text-decoration-color: #008000\">Completed</span>()\n",
       "</pre>\n"
      ],
      "text/plain": [
       "11:28:02.139 | \u001b[36mINFO\u001b[0m    | Task run 'cool_task-06a' - Finished in state \u001b[32mCompleted\u001b[0m()\n"
      ]
     },
     "metadata": {},
     "output_type": "display_data"
    },
    {
     "data": {
      "text/html": [
       "<pre style=\"white-space:pre;overflow-x:auto;line-height:normal;font-family:Menlo,'DejaVu Sans Mono',consolas,'Courier New',monospace\">11:28:02.140 | <span style=\"color: #008080; text-decoration-color: #008080\">INFO</span>    | Task run 'cool_task-828' - Finished in state <span style=\"color: #008000; text-decoration-color: #008000\">Completed</span>()\n",
       "</pre>\n"
      ],
      "text/plain": [
       "11:28:02.140 | \u001b[36mINFO\u001b[0m    | Task run 'cool_task-828' - Finished in state \u001b[32mCompleted\u001b[0m()\n"
      ]
     },
     "metadata": {},
     "output_type": "display_data"
    },
    {
     "data": {
      "text/html": [
       "<pre style=\"white-space:pre;overflow-x:auto;line-height:normal;font-family:Menlo,'DejaVu Sans Mono',consolas,'Courier New',monospace\">11:28:02.140 | <span style=\"color: #008080; text-decoration-color: #008080\">INFO</span>    | Task run 'cool_task-d51' - Finished in state <span style=\"color: #008000; text-decoration-color: #008000\">Completed</span>()\n",
       "</pre>\n"
      ],
      "text/plain": [
       "11:28:02.140 | \u001b[36mINFO\u001b[0m    | Task run 'cool_task-d51' - Finished in state \u001b[32mCompleted\u001b[0m()\n"
      ]
     },
     "metadata": {},
     "output_type": "display_data"
    },
    {
     "data": {
      "text/html": [
       "<pre style=\"white-space:pre;overflow-x:auto;line-height:normal;font-family:Menlo,'DejaVu Sans Mono',consolas,'Courier New',monospace\">11:28:02.141 | <span style=\"color: #008080; text-decoration-color: #008080\">INFO</span>    | Task run 'cool_task-4a2' - Finished in state <span style=\"color: #008000; text-decoration-color: #008000\">Completed</span>()\n",
       "</pre>\n"
      ],
      "text/plain": [
       "11:28:02.141 | \u001b[36mINFO\u001b[0m    | Task run 'cool_task-4a2' - Finished in state \u001b[32mCompleted\u001b[0m()\n"
      ]
     },
     "metadata": {},
     "output_type": "display_data"
    },
    {
     "data": {
      "text/html": [
       "<pre style=\"white-space:pre;overflow-x:auto;line-height:normal;font-family:Menlo,'DejaVu Sans Mono',consolas,'Courier New',monospace\">11:28:02.466 | <span style=\"color: #008080; text-decoration-color: #008080\">INFO</span>    | Flow run<span style=\"color: #800080; text-decoration-color: #800080\"> 'powerful-galago'</span> - Finished in state <span style=\"color: #008000; text-decoration-color: #008000\">Completed</span>()\n",
       "</pre>\n"
      ],
      "text/plain": [
       "11:28:02.466 | \u001b[36mINFO\u001b[0m    | Flow run\u001b[35m 'powerful-galago'\u001b[0m - Finished in state \u001b[32mCompleted\u001b[0m()\n"
      ]
     },
     "metadata": {},
     "output_type": "display_data"
    }
   ],
   "source": [
    "my_workflow()"
   ]
  },
  {
   "cell_type": "code",
   "execution_count": null,
   "id": "bcd73b18-ca84-417a-a4fc-2e3602ce1287",
   "metadata": {},
   "outputs": [],
   "source": []
  }
 ],
 "metadata": {
  "kernelspec": {
   "display_name": "data_process",
   "language": "python",
   "name": "data_process"
  },
  "language_info": {
   "codemirror_mode": {
    "name": "ipython",
    "version": 3
   },
   "file_extension": ".py",
   "mimetype": "text/x-python",
   "name": "python",
   "nbconvert_exporter": "python",
   "pygments_lexer": "ipython3",
   "version": "3.9.12"
  }
 },
 "nbformat": 4,
 "nbformat_minor": 5
}
