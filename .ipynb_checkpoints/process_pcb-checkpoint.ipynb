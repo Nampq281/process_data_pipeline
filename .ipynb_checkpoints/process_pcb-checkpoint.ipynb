{
 "cells": [
  {
   "cell_type": "code",
   "execution_count": 2,
   "id": "570aeb74-0431-412c-bf55-ee256edd4c39",
   "metadata": {},
   "outputs": [],
   "source": [
    "import polars as pl\n",
    "import pandas as pd\n",
    "import datetime \n",
    "from datetime import datetime as dt\n",
    "\n",
    "import xmltodict\n",
    "import json"
   ]
  },
  {
   "cell_type": "code",
   "execution_count": null,
   "id": "7be20c78-4465-44fc-b146-df58a406d297",
   "metadata": {},
   "outputs": [],
   "source": [
    "import prefect"
   ]
  },
  {
   "cell_type": "code",
   "execution_count": 3,
   "id": "20976b55-d77c-45db-bbbc-df15a4092aa8",
   "metadata": {},
   "outputs": [],
   "source": [
    "from src.utils import *"
   ]
  },
  {
   "cell_type": "code",
   "execution_count": 4,
   "id": "be85de05-5900-400c-a0a1-c2a549a68b81",
   "metadata": {},
   "outputs": [
    {
     "data": {
      "text/plain": [
       "'D:\\\\PCB data\\\\VCCard data'"
      ]
     },
     "execution_count": 4,
     "metadata": {},
     "output_type": "execute_result"
    }
   ],
   "source": [
    "import os\n",
    "os.getcwd()"
   ]
  },
  {
   "cell_type": "code",
   "execution_count": 5,
   "id": "9873f140-5f64-4f2f-9710-4b7695b1907e",
   "metadata": {},
   "outputs": [],
   "source": [
    "df = pd.read_csv(r'pcb_2024_T01_T06.csv', nrows=1000)"
   ]
  },
  {
   "cell_type": "code",
   "execution_count": 8,
   "id": "06f542a4-1b66-4a76-be49-77703ea9bd04",
   "metadata": {},
   "outputs": [],
   "source": [
    "def conso_id(id1, id2):\n",
    "    if id1 == \"'\":\n",
    "        final_id = id2\n",
    "    elif id2 == \"'\":\n",
    "        final_id = id1\n",
    "    else:\n",
    "        if id1 == id2:\n",
    "            final_id = id1\n",
    "        else:\n",
    "            final_id = id1+\"_\"+id2\n",
    "    return final_id"
   ]
  },
  {
   "cell_type": "code",
   "execution_count": 9,
   "id": "203756a6-8b5c-4be2-8bde-29b7f3f13d83",
   "metadata": {},
   "outputs": [],
   "source": [
    "def get_log(row):\n",
    "    full_message = xmltodict.parse(row)\n",
    "    try:\n",
    "        to_dict = full_message['MGResponse']['RI_Req_Output']['CreditHistory']\n",
    "    except:\n",
    "        to_dict = full_message['MGResponse']['CI_Req_Output']['CreditHistory']\n",
    "    return str(to_dict)"
   ]
  },
  {
   "cell_type": "code",
   "execution_count": 10,
   "id": "5d76b011-00fc-4cf6-a2a8-f3df54901426",
   "metadata": {},
   "outputs": [],
   "source": [
    "df.columns = ['id1', 'id2', 'name', 'address', 'log', 'process_date']"
   ]
  },
  {
   "cell_type": "code",
   "execution_count": 11,
   "id": "e0328740-1406-4848-beaa-20c73f14ff82",
   "metadata": {},
   "outputs": [],
   "source": [
    "df['process_date'] = df['process_date'].astype(str)"
   ]
  },
  {
   "cell_type": "code",
   "execution_count": 12,
   "id": "d73838c5-6858-4488-972b-01c28949172d",
   "metadata": {
    "scrolled": true
   },
   "outputs": [],
   "source": [
    "df['cccd'] = df[['id1', 'id2']].apply(lambda \n",
    "                                      row: conso_id(row.id1, row.id2),\n",
    "                                      axis=1\n",
    "                                     )"
   ]
  },
  {
   "cell_type": "code",
   "execution_count": 13,
   "id": "dbf152ad-2611-4d71-a06e-ab29486652e5",
   "metadata": {},
   "outputs": [],
   "source": [
    "df['pcb'] = df['log'].apply(lambda row: get_log(row))"
   ]
  },
  {
   "cell_type": "code",
   "execution_count": 35,
   "id": "5daa85ae-b999-4750-b78a-9cd0a4a70449",
   "metadata": {},
   "outputs": [],
   "source": [
    "from pip._vendor.rich.progress import (\n",
    "    Progress, SpinnerColumn, TimeElapsedColumn\n",
    ")\n",
    "\n",
    "def parse_data(process_name, df_in, field, id_lst):\n",
    "    try:\n",
    "        df_holder = []\n",
    "        total_rows = len(df_in)\n",
    "\n",
    "        with Progress(SpinnerColumn(), *Progress.get_default_columns(), TimeElapsedColumn(), transient=False) as progress:\n",
    "            task = progress.add_task(f\"Parsing {process_name}\", total=total_rows)\n",
    "            def process_row(row):    \n",
    "                explode_nest(df_holder, id_lst, row, row[field[0]])\n",
    "                progress.update(task, advance=1)\n",
    "                \n",
    "            df_in[id_lst + field].apply(process_row, axis=1)\n",
    "            df_out = pd.concat(df_holder)\n",
    "            df_out = df_out.replace('null', np.nan)\n",
    "    except KeyError:\n",
    "        df_out = pd.DataFrame()\n",
    "    return df_out\n",
    "\n",
    "def gen_id_level2(df):\n",
    "    return df['cccd'].astype(str) + '_' + df['CommonData.CBContractCode']\n",
    "\n",
    "def treat_dtype(df, col):\n",
    "    try:\n",
    "        df[col] = df[col].astype(str)\n",
    "    except KeyError:\n",
    "        pass"
   ]
  },
  {
   "cell_type": "code",
   "execution_count": null,
   "id": "cf2299a7-9af1-48e2-a804-e3c512fe9944",
   "metadata": {},
   "outputs": [],
   "source": []
  },
  {
   "cell_type": "code",
   "execution_count": 36,
   "id": "d8e7bd1f-add5-47ad-9d05-f9f9f65379b7",
   "metadata": {},
   "outputs": [
    {
     "data": {
      "application/vnd.jupyter.widget-view+json": {
       "model_id": "4ade3585b3cb4300b6cde2de5f7a684a",
       "version_major": 2,
       "version_minor": 0
      },
      "text/plain": [
       "Output()"
      ]
     },
     "metadata": {},
     "output_type": "display_data"
    },
    {
     "data": {
      "text/html": [
       "<pre style=\"white-space:pre;overflow-x:auto;line-height:normal;font-family:Menlo,'DejaVu Sans Mono',consolas,'Courier New',monospace\"></pre>\n"
      ],
      "text/plain": []
     },
     "metadata": {},
     "output_type": "display_data"
    },
    {
     "data": {
      "text/html": [
       "<pre style=\"white-space:pre;overflow-x:auto;line-height:normal;font-family:Menlo,'DejaVu Sans Mono',consolas,'Courier New',monospace\">\n",
       "</pre>\n"
      ],
      "text/plain": [
       "\n"
      ]
     },
     "metadata": {},
     "output_type": "display_data"
    }
   ],
   "source": [
    "field = ['pcb']\n",
    "id_col_list = ['cccd', 'process_date']\n",
    "\n",
    "df_root = parse_data('root', df, field, id_col_list)"
   ]
  },
  {
   "cell_type": "code",
   "execution_count": 28,
   "id": "81537e46-fc4f-4223-a31d-800d2f29cc43",
   "metadata": {},
   "outputs": [],
   "source": [
    "dtype_treat_lst = ['Contract.Instalments.GrantedContract',\n",
    "                  'Contract.Cards.GrantedContract',\n",
    "                  'Contract.NonInstalments.GrantedContract',\n",
    "                  'Contract.Instalments.NotGrantedContract',\n",
    "                  'Contract.Cards.NotGrantedContract',\n",
    "                  'Contract.NonInstalments.NotGrantedContract']\n",
    "for i in dtype_treat_lst:\n",
    "    treat_dtype(df_root, i)"
   ]
  },
  {
   "cell_type": "code",
   "execution_count": 37,
   "id": "62e5e48d-896c-4ece-827e-366eb3aabbe9",
   "metadata": {
    "scrolled": true
   },
   "outputs": [
    {
     "data": {
      "application/vnd.jupyter.widget-view+json": {
       "model_id": "eecf444e30a84df1bcaaf1b67296b3de",
       "version_major": 2,
       "version_minor": 0
      },
      "text/plain": [
       "Output()"
      ]
     },
     "metadata": {},
     "output_type": "display_data"
    },
    {
     "data": {
      "text/html": [
       "<pre style=\"white-space:pre;overflow-x:auto;line-height:normal;font-family:Menlo,'DejaVu Sans Mono',consolas,'Courier New',monospace\"></pre>\n"
      ],
      "text/plain": []
     },
     "metadata": {},
     "output_type": "display_data"
    },
    {
     "data": {
      "text/html": [
       "<pre style=\"white-space:pre;overflow-x:auto;line-height:normal;font-family:Menlo,'DejaVu Sans Mono',consolas,'Courier New',monospace\">\n",
       "</pre>\n"
      ],
      "text/plain": [
       "\n"
      ]
     },
     "metadata": {},
     "output_type": "display_data"
    },
    {
     "data": {
      "application/vnd.jupyter.widget-view+json": {
       "model_id": "64c2f5b70776406f8bd47d840cddbdbc",
       "version_major": 2,
       "version_minor": 0
      },
      "text/plain": [
       "Output()"
      ]
     },
     "metadata": {},
     "output_type": "display_data"
    },
    {
     "data": {
      "text/html": [
       "<pre style=\"white-space:pre;overflow-x:auto;line-height:normal;font-family:Menlo,'DejaVu Sans Mono',consolas,'Courier New',monospace\"></pre>\n"
      ],
      "text/plain": []
     },
     "metadata": {},
     "output_type": "display_data"
    },
    {
     "data": {
      "text/html": [
       "<pre style=\"white-space:pre;overflow-x:auto;line-height:normal;font-family:Menlo,'DejaVu Sans Mono',consolas,'Courier New',monospace\">\n",
       "</pre>\n"
      ],
      "text/plain": [
       "\n"
      ]
     },
     "metadata": {},
     "output_type": "display_data"
    },
    {
     "data": {
      "application/vnd.jupyter.widget-view+json": {
       "model_id": "960bf50af81741a2a720c4e5e87a7260",
       "version_major": 2,
       "version_minor": 0
      },
      "text/plain": [
       "Output()"
      ]
     },
     "metadata": {},
     "output_type": "display_data"
    },
    {
     "data": {
      "text/html": [
       "<pre style=\"white-space:pre;overflow-x:auto;line-height:normal;font-family:Menlo,'DejaVu Sans Mono',consolas,'Courier New',monospace\"></pre>\n"
      ],
      "text/plain": []
     },
     "metadata": {},
     "output_type": "display_data"
    },
    {
     "data": {
      "text/html": [
       "<pre style=\"white-space:pre;overflow-x:auto;line-height:normal;font-family:Menlo,'DejaVu Sans Mono',consolas,'Courier New',monospace\">\n",
       "</pre>\n"
      ],
      "text/plain": [
       "\n"
      ]
     },
     "metadata": {},
     "output_type": "display_data"
    },
    {
     "data": {
      "application/vnd.jupyter.widget-view+json": {
       "model_id": "fa04d9c4ebc440638876b27218cfa240",
       "version_major": 2,
       "version_minor": 0
      },
      "text/plain": [
       "Output()"
      ]
     },
     "metadata": {},
     "output_type": "display_data"
    },
    {
     "data": {
      "text/html": [
       "<pre style=\"white-space:pre;overflow-x:auto;line-height:normal;font-family:Menlo,'DejaVu Sans Mono',consolas,'Courier New',monospace\"></pre>\n"
      ],
      "text/plain": []
     },
     "metadata": {},
     "output_type": "display_data"
    },
    {
     "data": {
      "text/html": [
       "<pre style=\"white-space:pre;overflow-x:auto;line-height:normal;font-family:Menlo,'DejaVu Sans Mono',consolas,'Courier New',monospace\">\n",
       "</pre>\n"
      ],
      "text/plain": [
       "\n"
      ]
     },
     "metadata": {},
     "output_type": "display_data"
    },
    {
     "data": {
      "application/vnd.jupyter.widget-view+json": {
       "model_id": "4f982f1c943a465aa91d23f50270d92a",
       "version_major": 2,
       "version_minor": 0
      },
      "text/plain": [
       "Output()"
      ]
     },
     "metadata": {},
     "output_type": "display_data"
    },
    {
     "data": {
      "text/html": [
       "<pre style=\"white-space:pre;overflow-x:auto;line-height:normal;font-family:Menlo,'DejaVu Sans Mono',consolas,'Courier New',monospace\"></pre>\n"
      ],
      "text/plain": []
     },
     "metadata": {},
     "output_type": "display_data"
    },
    {
     "data": {
      "text/html": [
       "<pre style=\"white-space:pre;overflow-x:auto;line-height:normal;font-family:Menlo,'DejaVu Sans Mono',consolas,'Courier New',monospace\">\n",
       "</pre>\n"
      ],
      "text/plain": [
       "\n"
      ]
     },
     "metadata": {},
     "output_type": "display_data"
    },
    {
     "data": {
      "application/vnd.jupyter.widget-view+json": {
       "model_id": "51d0aacf50124438a8509f7510b4029a",
       "version_major": 2,
       "version_minor": 0
      },
      "text/plain": [
       "Output()"
      ]
     },
     "metadata": {},
     "output_type": "display_data"
    },
    {
     "data": {
      "text/html": [
       "<pre style=\"white-space:pre;overflow-x:auto;line-height:normal;font-family:Menlo,'DejaVu Sans Mono',consolas,'Courier New',monospace\"></pre>\n"
      ],
      "text/plain": []
     },
     "metadata": {},
     "output_type": "display_data"
    },
    {
     "data": {
      "text/html": [
       "<pre style=\"white-space:pre;overflow-x:auto;line-height:normal;font-family:Menlo,'DejaVu Sans Mono',consolas,'Courier New',monospace\">\n",
       "</pre>\n"
      ],
      "text/plain": [
       "\n"
      ]
     },
     "metadata": {},
     "output_type": "display_data"
    }
   ],
   "source": [
    "id_col_list = ['cccd', 'process_date']\n",
    "\n",
    "contract_level_noninstall = parse_data('nonins', df_root, ['Contract.NonInstalments.GrantedContract'], id_col_list)\n",
    "contract_level_install = parse_data('ins', df_root, ['Contract.Instalments.GrantedContract'], id_col_list)\n",
    "contract_level_card = parse_data('card', df_root, ['Contract.Cards.GrantedContract'], id_col_list)\n",
    "\n",
    "not_grant_install = parse_data('ng_ins', df_root, ['Contract.Instalments.NotGrantedContract'], id_col_list)\n",
    "not_grant_noninstall = parse_data('ng_nonins', df_root, ['Contract.NonInstalments.NotGrantedContract'], id_col_list)\n",
    "not_grant_card = parse_data('ng_card', df_root, ['Contract.Cards.NotGrantedContract'], id_col_list)"
   ]
  },
  {
   "cell_type": "code",
   "execution_count": 30,
   "id": "02d92b29-da8b-4b82-aab7-50063f4aa186",
   "metadata": {},
   "outputs": [],
   "source": [
    "contract_level_noninstall['loan_code_lv2'] = gen_id_level2(contract_level_noninstall)\n",
    "contract_level_install['loan_code_lv2'] = gen_id_level2(contract_level_install)\n",
    "contract_level_card['loan_code_lv2'] = gen_id_level2(contract_level_card)\n",
    "\n",
    "treat_dtype(contract_level_install, 'Profiles')\n",
    "treat_dtype(contract_level_install, 'InstGuarantees')\n",
    "treat_dtype(contract_level_card, 'Profiles')\n",
    "treat_dtype(contract_level_card, 'CardsGuarantees')\n",
    "treat_dtype(contract_level_noninstall, 'Profiles')"
   ]
  },
  {
   "cell_type": "code",
   "execution_count": 19,
   "id": "b91d3fa1-1f25-4614-9937-2f1b3e3a4197",
   "metadata": {},
   "outputs": [],
   "source": [
    "contract_level_card = contract_level_card[~contract_level_card['loan_code_lv2'].isna()]\n",
    "contract_level_noninstall = contract_level_noninstall[~contract_level_noninstall['loan_code_lv2'].isna()]\n",
    "contract_level_install = contract_level_install[~contract_level_install['loan_code_lv2'].isna()]  "
   ]
  },
  {
   "cell_type": "code",
   "execution_count": 20,
   "id": "50c368de-4e8e-4234-ba8f-027c91bc351a",
   "metadata": {},
   "outputs": [],
   "source": [
    "field = ['Profiles']\n",
    "id_col_list = ['loan_code_lv2', 'cccd', 'CommonData.CBContractCode', 'process_date']\n",
    "\n",
    "ts_card = parse_data('ts_card', contract_level_card, field, id_col_list)\n",
    "ts_install = parse_data('ts_ins', contract_level_install, field, id_col_list)\n",
    "ts_noninstall = parse_data('ts_nonins', contract_level_noninstall, field, id_col_list)"
   ]
  },
  {
   "cell_type": "code",
   "execution_count": 21,
   "id": "86c4ef6a-6b0a-41fa-ab5c-d9aa36f91eaa",
   "metadata": {
    "scrolled": true
   },
   "outputs": [
    {
     "data": {
      "text/html": [
       "<div>\n",
       "<style scoped>\n",
       "    .dataframe tbody tr th:only-of-type {\n",
       "        vertical-align: middle;\n",
       "    }\n",
       "\n",
       "    .dataframe tbody tr th {\n",
       "        vertical-align: top;\n",
       "    }\n",
       "\n",
       "    .dataframe thead th {\n",
       "        text-align: right;\n",
       "    }\n",
       "</style>\n",
       "<table border=\"1\" class=\"dataframe\">\n",
       "  <thead>\n",
       "    <tr style=\"text-align: right;\">\n",
       "      <th></th>\n",
       "      <th>ReferenceYear</th>\n",
       "      <th>ReferenceMonth</th>\n",
       "      <th>Default</th>\n",
       "      <th>ResidualAmount</th>\n",
       "      <th>Utilization</th>\n",
       "      <th>Status</th>\n",
       "      <th>loan_code_lv2</th>\n",
       "      <th>cccd</th>\n",
       "      <th>CommonData.CBContractCode</th>\n",
       "      <th>process_date</th>\n",
       "    </tr>\n",
       "  </thead>\n",
       "  <tbody>\n",
       "    <tr>\n",
       "      <th>0</th>\n",
       "      <td>2023</td>\n",
       "      <td>11</td>\n",
       "      <td>0</td>\n",
       "      <td>17949999</td>\n",
       "      <td>17950000</td>\n",
       "      <td>1</td>\n",
       "      <td>'001090037737_H27425497</td>\n",
       "      <td>'001090037737</td>\n",
       "      <td>H27425497</td>\n",
       "      <td>20240101</td>\n",
       "    </tr>\n",
       "    <tr>\n",
       "      <th>0</th>\n",
       "      <td>2023</td>\n",
       "      <td>10</td>\n",
       "      <td>0</td>\n",
       "      <td>17982000</td>\n",
       "      <td>28482000</td>\n",
       "      <td>1</td>\n",
       "      <td>'001090037737_H27425497</td>\n",
       "      <td>'001090037737</td>\n",
       "      <td>H27425497</td>\n",
       "      <td>20240101</td>\n",
       "    </tr>\n",
       "    <tr>\n",
       "      <th>0</th>\n",
       "      <td>2023</td>\n",
       "      <td>11</td>\n",
       "      <td>0</td>\n",
       "      <td>17978341</td>\n",
       "      <td>22800000</td>\n",
       "      <td>1</td>\n",
       "      <td>'001090037737_L26689222</td>\n",
       "      <td>'001090037737</td>\n",
       "      <td>L26689222</td>\n",
       "      <td>20240101</td>\n",
       "    </tr>\n",
       "    <tr>\n",
       "      <th>0</th>\n",
       "      <td>2023</td>\n",
       "      <td>10</td>\n",
       "      <td>0</td>\n",
       "      <td>16011722</td>\n",
       "      <td>88400000</td>\n",
       "      <td>1</td>\n",
       "      <td>'001090037737_L26689222</td>\n",
       "      <td>'001090037737</td>\n",
       "      <td>L26689222</td>\n",
       "      <td>20240101</td>\n",
       "    </tr>\n",
       "    <tr>\n",
       "      <th>0</th>\n",
       "      <td>2023</td>\n",
       "      <td>09</td>\n",
       "      <td>0</td>\n",
       "      <td>17948163</td>\n",
       "      <td>119100000</td>\n",
       "      <td>1</td>\n",
       "      <td>'001090037737_L26689222</td>\n",
       "      <td>'001090037737</td>\n",
       "      <td>L26689222</td>\n",
       "      <td>20240101</td>\n",
       "    </tr>\n",
       "    <tr>\n",
       "      <th>...</th>\n",
       "      <td>...</td>\n",
       "      <td>...</td>\n",
       "      <td>...</td>\n",
       "      <td>...</td>\n",
       "      <td>...</td>\n",
       "      <td>...</td>\n",
       "      <td>...</td>\n",
       "      <td>...</td>\n",
       "      <td>...</td>\n",
       "      <td>...</td>\n",
       "    </tr>\n",
       "    <tr>\n",
       "      <th>0</th>\n",
       "      <td>2020</td>\n",
       "      <td>11</td>\n",
       "      <td>0</td>\n",
       "      <td>0</td>\n",
       "      <td>0</td>\n",
       "      <td>1</td>\n",
       "      <td>'040078000827_M23134856</td>\n",
       "      <td>'040078000827</td>\n",
       "      <td>M23134856</td>\n",
       "      <td>20240101</td>\n",
       "    </tr>\n",
       "    <tr>\n",
       "      <th>0</th>\n",
       "      <td>2020</td>\n",
       "      <td>10</td>\n",
       "      <td>0</td>\n",
       "      <td>0</td>\n",
       "      <td>0</td>\n",
       "      <td>1</td>\n",
       "      <td>'040078000827_M23134856</td>\n",
       "      <td>'040078000827</td>\n",
       "      <td>M23134856</td>\n",
       "      <td>20240101</td>\n",
       "    </tr>\n",
       "    <tr>\n",
       "      <th>0</th>\n",
       "      <td>2020</td>\n",
       "      <td>09</td>\n",
       "      <td>0</td>\n",
       "      <td>154257</td>\n",
       "      <td>0</td>\n",
       "      <td>1</td>\n",
       "      <td>'040078000827_M23134856</td>\n",
       "      <td>'040078000827</td>\n",
       "      <td>M23134856</td>\n",
       "      <td>20240101</td>\n",
       "    </tr>\n",
       "    <tr>\n",
       "      <th>0</th>\n",
       "      <td>2020</td>\n",
       "      <td>08</td>\n",
       "      <td>0</td>\n",
       "      <td>213910</td>\n",
       "      <td>0</td>\n",
       "      <td>1</td>\n",
       "      <td>'040078000827_M23134856</td>\n",
       "      <td>'040078000827</td>\n",
       "      <td>M23134856</td>\n",
       "      <td>20240101</td>\n",
       "    </tr>\n",
       "    <tr>\n",
       "      <th>0</th>\n",
       "      <td>2020</td>\n",
       "      <td>07</td>\n",
       "      <td>0</td>\n",
       "      <td>699000</td>\n",
       "      <td>0</td>\n",
       "      <td>1</td>\n",
       "      <td>'040078000827_M23134856</td>\n",
       "      <td>'040078000827</td>\n",
       "      <td>M23134856</td>\n",
       "      <td>20240101</td>\n",
       "    </tr>\n",
       "  </tbody>\n",
       "</table>\n",
       "<p>5695 rows × 10 columns</p>\n",
       "</div>"
      ],
      "text/plain": [
       "   ReferenceYear ReferenceMonth Default ResidualAmount Utilization Status  \\\n",
       "0           2023             11       0       17949999    17950000      1   \n",
       "0           2023             10       0       17982000    28482000      1   \n",
       "0           2023             11       0       17978341    22800000      1   \n",
       "0           2023             10       0       16011722    88400000      1   \n",
       "0           2023             09       0       17948163   119100000      1   \n",
       "..           ...            ...     ...            ...         ...    ...   \n",
       "0           2020             11       0              0           0      1   \n",
       "0           2020             10       0              0           0      1   \n",
       "0           2020             09       0         154257           0      1   \n",
       "0           2020             08       0         213910           0      1   \n",
       "0           2020             07       0         699000           0      1   \n",
       "\n",
       "              loan_code_lv2           cccd CommonData.CBContractCode  \\\n",
       "0   '001090037737_H27425497  '001090037737                 H27425497   \n",
       "0   '001090037737_H27425497  '001090037737                 H27425497   \n",
       "0   '001090037737_L26689222  '001090037737                 L26689222   \n",
       "0   '001090037737_L26689222  '001090037737                 L26689222   \n",
       "0   '001090037737_L26689222  '001090037737                 L26689222   \n",
       "..                      ...            ...                       ...   \n",
       "0   '040078000827_M23134856  '040078000827                 M23134856   \n",
       "0   '040078000827_M23134856  '040078000827                 M23134856   \n",
       "0   '040078000827_M23134856  '040078000827                 M23134856   \n",
       "0   '040078000827_M23134856  '040078000827                 M23134856   \n",
       "0   '040078000827_M23134856  '040078000827                 M23134856   \n",
       "\n",
       "   process_date  \n",
       "0      20240101  \n",
       "0      20240101  \n",
       "0      20240101  \n",
       "0      20240101  \n",
       "0      20240101  \n",
       "..          ...  \n",
       "0      20240101  \n",
       "0      20240101  \n",
       "0      20240101  \n",
       "0      20240101  \n",
       "0      20240101  \n",
       "\n",
       "[5695 rows x 10 columns]"
      ]
     },
     "execution_count": 21,
     "metadata": {},
     "output_type": "execute_result"
    }
   ],
   "source": [
    "ts_card"
   ]
  },
  {
   "cell_type": "code",
   "execution_count": 22,
   "id": "953f7c35-5bd2-4aee-94f9-21e572ffa465",
   "metadata": {},
   "outputs": [
    {
     "data": {
      "text/html": [
       "<div>\n",
       "<style scoped>\n",
       "    .dataframe tbody tr th:only-of-type {\n",
       "        vertical-align: middle;\n",
       "    }\n",
       "\n",
       "    .dataframe tbody tr th {\n",
       "        vertical-align: top;\n",
       "    }\n",
       "\n",
       "    .dataframe thead th {\n",
       "        text-align: right;\n",
       "    }\n",
       "</style>\n",
       "<table border=\"1\" class=\"dataframe\">\n",
       "  <thead>\n",
       "    <tr style=\"text-align: right;\">\n",
       "      <th></th>\n",
       "      <th>InquiredOperation.CBContractCode</th>\n",
       "      <th>InquiredOperation.TypeOfFinancing</th>\n",
       "      <th>GeneralData.CurrencyCode</th>\n",
       "      <th>GeneralData.TotalNumberOfContract</th>\n",
       "      <th>GeneralData.NumberOfReportingInstitution</th>\n",
       "      <th>GeneralData.WorstRecentStatus</th>\n",
       "      <th>Contract.Instalments.Summary.NumberOfRequested</th>\n",
       "      <th>Contract.Instalments.Summary.NumberOfLiving</th>\n",
       "      <th>Contract.Instalments.Summary.NumberOfRefused</th>\n",
       "      <th>Contract.Instalments.Summary.NumberOfRenounced</th>\n",
       "      <th>...</th>\n",
       "      <th>Contract.NonInstalments.GrantedContract.Profiles.GuarantedAmount</th>\n",
       "      <th>Contract.NonInstalments.GrantedContract.Profiles.Status</th>\n",
       "      <th>Contract.Instalments.GrantedContract.InstGuarantees.RealGuarantee.AssetCode</th>\n",
       "      <th>Contract.Instalments.GrantedContract.InstGuarantees.RealGuarantee.AssetDescription</th>\n",
       "      <th>Contract.Instalments.GrantedContract.InstGuarantees.RealGuarantee.DateOfPledgeOrMortgage</th>\n",
       "      <th>Contract.Instalments.GrantedContract.InstGuarantees.RealGuarantee.ActualDateOfReleaseOfMortgage</th>\n",
       "      <th>GuaranterCurrencySummary.GuarCurrencyPercentage.GuarCurrencyCode</th>\n",
       "      <th>GuaranterCurrencySummary.GuarCurrencyPercentage.GuarPercentage</th>\n",
       "      <th>Contract.Instalments.GrantedContract.LinkedSubjects.LinkedCBSubjectCode</th>\n",
       "      <th>Contract.Instalments.GrantedContract.LinkedSubjects.RoleCode</th>\n",
       "    </tr>\n",
       "  </thead>\n",
       "  <tbody>\n",
       "    <tr>\n",
       "      <th>0</th>\n",
       "      <td>927731262</td>\n",
       "      <td>31</td>\n",
       "      <td>VND</td>\n",
       "      <td>11</td>\n",
       "      <td>6</td>\n",
       "      <td>1</td>\n",
       "      <td>3</td>\n",
       "      <td>0</td>\n",
       "      <td>0</td>\n",
       "      <td>0</td>\n",
       "      <td>...</td>\n",
       "      <td>NaN</td>\n",
       "      <td>NaN</td>\n",
       "      <td>NaN</td>\n",
       "      <td>NaN</td>\n",
       "      <td>NaN</td>\n",
       "      <td>NaN</td>\n",
       "      <td>NaN</td>\n",
       "      <td>NaN</td>\n",
       "      <td>NaN</td>\n",
       "      <td>NaN</td>\n",
       "    </tr>\n",
       "    <tr>\n",
       "      <th>0</th>\n",
       "      <td>L27735996</td>\n",
       "      <td>31</td>\n",
       "      <td>VND</td>\n",
       "      <td>3</td>\n",
       "      <td>1</td>\n",
       "      <td>None</td>\n",
       "      <td>2</td>\n",
       "      <td>0</td>\n",
       "      <td>0</td>\n",
       "      <td>0</td>\n",
       "      <td>...</td>\n",
       "      <td>NaN</td>\n",
       "      <td>NaN</td>\n",
       "      <td>NaN</td>\n",
       "      <td>NaN</td>\n",
       "      <td>NaN</td>\n",
       "      <td>NaN</td>\n",
       "      <td>NaN</td>\n",
       "      <td>NaN</td>\n",
       "      <td>NaN</td>\n",
       "      <td>NaN</td>\n",
       "    </tr>\n",
       "    <tr>\n",
       "      <th>0</th>\n",
       "      <td>M27733334</td>\n",
       "      <td>31</td>\n",
       "      <td>VND</td>\n",
       "      <td>18</td>\n",
       "      <td>8</td>\n",
       "      <td>1</td>\n",
       "      <td>9</td>\n",
       "      <td>1</td>\n",
       "      <td>0</td>\n",
       "      <td>0</td>\n",
       "      <td>...</td>\n",
       "      <td>NaN</td>\n",
       "      <td>NaN</td>\n",
       "      <td>NaN</td>\n",
       "      <td>NaN</td>\n",
       "      <td>NaN</td>\n",
       "      <td>NaN</td>\n",
       "      <td>NaN</td>\n",
       "      <td>NaN</td>\n",
       "      <td>NaN</td>\n",
       "      <td>NaN</td>\n",
       "    </tr>\n",
       "    <tr>\n",
       "      <th>0</th>\n",
       "      <td>M27733337</td>\n",
       "      <td>31</td>\n",
       "      <td>VND</td>\n",
       "      <td>3</td>\n",
       "      <td>2</td>\n",
       "      <td>1</td>\n",
       "      <td>1</td>\n",
       "      <td>0</td>\n",
       "      <td>0</td>\n",
       "      <td>0</td>\n",
       "      <td>...</td>\n",
       "      <td>NaN</td>\n",
       "      <td>NaN</td>\n",
       "      <td>NaN</td>\n",
       "      <td>NaN</td>\n",
       "      <td>NaN</td>\n",
       "      <td>NaN</td>\n",
       "      <td>NaN</td>\n",
       "      <td>NaN</td>\n",
       "      <td>NaN</td>\n",
       "      <td>NaN</td>\n",
       "    </tr>\n",
       "    <tr>\n",
       "      <th>0</th>\n",
       "      <td>E27733495</td>\n",
       "      <td>31</td>\n",
       "      <td>VND</td>\n",
       "      <td>1</td>\n",
       "      <td>1</td>\n",
       "      <td>None</td>\n",
       "      <td>0</td>\n",
       "      <td>1</td>\n",
       "      <td>0</td>\n",
       "      <td>0</td>\n",
       "      <td>...</td>\n",
       "      <td>NaN</td>\n",
       "      <td>NaN</td>\n",
       "      <td>NaN</td>\n",
       "      <td>NaN</td>\n",
       "      <td>NaN</td>\n",
       "      <td>NaN</td>\n",
       "      <td>NaN</td>\n",
       "      <td>NaN</td>\n",
       "      <td>NaN</td>\n",
       "      <td>NaN</td>\n",
       "    </tr>\n",
       "  </tbody>\n",
       "</table>\n",
       "<p>5 rows × 208 columns</p>\n",
       "</div>"
      ],
      "text/plain": [
       "  InquiredOperation.CBContractCode InquiredOperation.TypeOfFinancing  \\\n",
       "0                        927731262                                31   \n",
       "0                        L27735996                                31   \n",
       "0                        M27733334                                31   \n",
       "0                        M27733337                                31   \n",
       "0                        E27733495                                31   \n",
       "\n",
       "  GeneralData.CurrencyCode GeneralData.TotalNumberOfContract  \\\n",
       "0                      VND                                11   \n",
       "0                      VND                                 3   \n",
       "0                      VND                                18   \n",
       "0                      VND                                 3   \n",
       "0                      VND                                 1   \n",
       "\n",
       "  GeneralData.NumberOfReportingInstitution GeneralData.WorstRecentStatus  \\\n",
       "0                                        6                             1   \n",
       "0                                        1                          None   \n",
       "0                                        8                             1   \n",
       "0                                        2                             1   \n",
       "0                                        1                          None   \n",
       "\n",
       "  Contract.Instalments.Summary.NumberOfRequested  \\\n",
       "0                                              3   \n",
       "0                                              2   \n",
       "0                                              9   \n",
       "0                                              1   \n",
       "0                                              0   \n",
       "\n",
       "  Contract.Instalments.Summary.NumberOfLiving  \\\n",
       "0                                           0   \n",
       "0                                           0   \n",
       "0                                           1   \n",
       "0                                           0   \n",
       "0                                           1   \n",
       "\n",
       "  Contract.Instalments.Summary.NumberOfRefused  \\\n",
       "0                                            0   \n",
       "0                                            0   \n",
       "0                                            0   \n",
       "0                                            0   \n",
       "0                                            0   \n",
       "\n",
       "  Contract.Instalments.Summary.NumberOfRenounced  ...  \\\n",
       "0                                              0  ...   \n",
       "0                                              0  ...   \n",
       "0                                              0  ...   \n",
       "0                                              0  ...   \n",
       "0                                              0  ...   \n",
       "\n",
       "  Contract.NonInstalments.GrantedContract.Profiles.GuarantedAmount  \\\n",
       "0                                                NaN                 \n",
       "0                                                NaN                 \n",
       "0                                                NaN                 \n",
       "0                                                NaN                 \n",
       "0                                                NaN                 \n",
       "\n",
       "  Contract.NonInstalments.GrantedContract.Profiles.Status  \\\n",
       "0                                                NaN        \n",
       "0                                                NaN        \n",
       "0                                                NaN        \n",
       "0                                                NaN        \n",
       "0                                                NaN        \n",
       "\n",
       "  Contract.Instalments.GrantedContract.InstGuarantees.RealGuarantee.AssetCode  \\\n",
       "0                                                NaN                            \n",
       "0                                                NaN                            \n",
       "0                                                NaN                            \n",
       "0                                                NaN                            \n",
       "0                                                NaN                            \n",
       "\n",
       "  Contract.Instalments.GrantedContract.InstGuarantees.RealGuarantee.AssetDescription  \\\n",
       "0                                                NaN                                   \n",
       "0                                                NaN                                   \n",
       "0                                                NaN                                   \n",
       "0                                                NaN                                   \n",
       "0                                                NaN                                   \n",
       "\n",
       "  Contract.Instalments.GrantedContract.InstGuarantees.RealGuarantee.DateOfPledgeOrMortgage  \\\n",
       "0                                                NaN                                         \n",
       "0                                                NaN                                         \n",
       "0                                                NaN                                         \n",
       "0                                                NaN                                         \n",
       "0                                                NaN                                         \n",
       "\n",
       "  Contract.Instalments.GrantedContract.InstGuarantees.RealGuarantee.ActualDateOfReleaseOfMortgage  \\\n",
       "0                                                NaN                                                \n",
       "0                                                NaN                                                \n",
       "0                                                NaN                                                \n",
       "0                                                NaN                                                \n",
       "0                                                NaN                                                \n",
       "\n",
       "  GuaranterCurrencySummary.GuarCurrencyPercentage.GuarCurrencyCode  \\\n",
       "0                                                NaN                 \n",
       "0                                                NaN                 \n",
       "0                                                NaN                 \n",
       "0                                                NaN                 \n",
       "0                                                NaN                 \n",
       "\n",
       "  GuaranterCurrencySummary.GuarCurrencyPercentage.GuarPercentage  \\\n",
       "0                                                NaN               \n",
       "0                                                NaN               \n",
       "0                                                NaN               \n",
       "0                                                NaN               \n",
       "0                                                NaN               \n",
       "\n",
       "  Contract.Instalments.GrantedContract.LinkedSubjects.LinkedCBSubjectCode  \\\n",
       "0                                                NaN                        \n",
       "0                                                NaN                        \n",
       "0                                                NaN                        \n",
       "0                                                NaN                        \n",
       "0                                                NaN                        \n",
       "\n",
       "  Contract.Instalments.GrantedContract.LinkedSubjects.RoleCode  \n",
       "0                                                NaN            \n",
       "0                                                NaN            \n",
       "0                                                NaN            \n",
       "0                                                NaN            \n",
       "0                                                NaN            \n",
       "\n",
       "[5 rows x 208 columns]"
      ]
     },
     "execution_count": 22,
     "metadata": {},
     "output_type": "execute_result"
    }
   ],
   "source": [
    "df_root.head()"
   ]
  },
  {
   "cell_type": "code",
   "execution_count": null,
   "id": "d3bf7347-204e-474d-bd60-c168c84b3f4f",
   "metadata": {},
   "outputs": [],
   "source": []
  }
 ],
 "metadata": {
  "kernelspec": {
   "display_name": "data_process",
   "language": "python",
   "name": "data_process"
  },
  "language_info": {
   "codemirror_mode": {
    "name": "ipython",
    "version": 3
   },
   "file_extension": ".py",
   "mimetype": "text/x-python",
   "name": "python",
   "nbconvert_exporter": "python",
   "pygments_lexer": "ipython3",
   "version": "3.9.12"
  }
 },
 "nbformat": 4,
 "nbformat_minor": 5
}
