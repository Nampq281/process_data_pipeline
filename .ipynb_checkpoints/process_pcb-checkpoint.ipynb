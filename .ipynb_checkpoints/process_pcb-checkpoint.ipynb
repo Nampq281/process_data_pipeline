{
 "cells": [
  {
   "cell_type": "code",
   "execution_count": 1,
   "id": "570aeb74-0431-412c-bf55-ee256edd4c39",
   "metadata": {},
   "outputs": [],
   "source": [
    "import polars as pl\n",
    "import pandas as pd\n",
    "import datetime \n",
    "from datetime import datetime as dt\n",
    "\n",
    "import xmltodict\n",
    "import json"
   ]
  },
  {
   "cell_type": "code",
   "execution_count": 2,
   "id": "85fdc952-bcb9-4625-982e-6c14671019e2",
   "metadata": {},
   "outputs": [
    {
     "ename": "ParserError",
     "evalue": "Error tokenizing data. C error: Expected 227 fields in line 21008, saw 228\n",
     "output_type": "error",
     "traceback": [
      "\u001b[1;31m---------------------------------------------------------------------------\u001b[0m",
      "\u001b[1;31mParserError\u001b[0m                               Traceback (most recent call last)",
      "Cell \u001b[1;32mIn[2], line 3\u001b[0m\n\u001b[0;32m      1\u001b[0m \u001b[38;5;28;01mimport\u001b[39;00m \u001b[38;5;21;01mpandas\u001b[39;00m \u001b[38;5;28;01mas\u001b[39;00m \u001b[38;5;21;01mpd\u001b[39;00m\n\u001b[1;32m----> 3\u001b[0m df\u001b[38;5;241m=\u001b[39m\u001b[43mpd\u001b[49m\u001b[38;5;241;43m.\u001b[39;49m\u001b[43mread_csv\u001b[49m\u001b[43m(\u001b[49m\u001b[38;5;124;43mr\u001b[39;49m\u001b[38;5;124;43m'\u001b[39;49m\u001b[38;5;124;43mroot_sample.csv\u001b[39;49m\u001b[38;5;124;43m'\u001b[39;49m\u001b[43m)\u001b[49m\n",
      "File \u001b[1;32mD:\\working_env\\data_process\\lib\\site-packages\\pandas\\io\\parsers\\readers.py:1026\u001b[0m, in \u001b[0;36mread_csv\u001b[1;34m(filepath_or_buffer, sep, delimiter, header, names, index_col, usecols, dtype, engine, converters, true_values, false_values, skipinitialspace, skiprows, skipfooter, nrows, na_values, keep_default_na, na_filter, verbose, skip_blank_lines, parse_dates, infer_datetime_format, keep_date_col, date_parser, date_format, dayfirst, cache_dates, iterator, chunksize, compression, thousands, decimal, lineterminator, quotechar, quoting, doublequote, escapechar, comment, encoding, encoding_errors, dialect, on_bad_lines, delim_whitespace, low_memory, memory_map, float_precision, storage_options, dtype_backend)\u001b[0m\n\u001b[0;32m   1013\u001b[0m kwds_defaults \u001b[38;5;241m=\u001b[39m _refine_defaults_read(\n\u001b[0;32m   1014\u001b[0m     dialect,\n\u001b[0;32m   1015\u001b[0m     delimiter,\n\u001b[1;32m   (...)\u001b[0m\n\u001b[0;32m   1022\u001b[0m     dtype_backend\u001b[38;5;241m=\u001b[39mdtype_backend,\n\u001b[0;32m   1023\u001b[0m )\n\u001b[0;32m   1024\u001b[0m kwds\u001b[38;5;241m.\u001b[39mupdate(kwds_defaults)\n\u001b[1;32m-> 1026\u001b[0m \u001b[38;5;28;01mreturn\u001b[39;00m \u001b[43m_read\u001b[49m\u001b[43m(\u001b[49m\u001b[43mfilepath_or_buffer\u001b[49m\u001b[43m,\u001b[49m\u001b[43m \u001b[49m\u001b[43mkwds\u001b[49m\u001b[43m)\u001b[49m\n",
      "File \u001b[1;32mD:\\working_env\\data_process\\lib\\site-packages\\pandas\\io\\parsers\\readers.py:626\u001b[0m, in \u001b[0;36m_read\u001b[1;34m(filepath_or_buffer, kwds)\u001b[0m\n\u001b[0;32m    623\u001b[0m     \u001b[38;5;28;01mreturn\u001b[39;00m parser\n\u001b[0;32m    625\u001b[0m \u001b[38;5;28;01mwith\u001b[39;00m parser:\n\u001b[1;32m--> 626\u001b[0m     \u001b[38;5;28;01mreturn\u001b[39;00m \u001b[43mparser\u001b[49m\u001b[38;5;241;43m.\u001b[39;49m\u001b[43mread\u001b[49m\u001b[43m(\u001b[49m\u001b[43mnrows\u001b[49m\u001b[43m)\u001b[49m\n",
      "File \u001b[1;32mD:\\working_env\\data_process\\lib\\site-packages\\pandas\\io\\parsers\\readers.py:1923\u001b[0m, in \u001b[0;36mTextFileReader.read\u001b[1;34m(self, nrows)\u001b[0m\n\u001b[0;32m   1916\u001b[0m nrows \u001b[38;5;241m=\u001b[39m validate_integer(\u001b[38;5;124m\"\u001b[39m\u001b[38;5;124mnrows\u001b[39m\u001b[38;5;124m\"\u001b[39m, nrows)\n\u001b[0;32m   1917\u001b[0m \u001b[38;5;28;01mtry\u001b[39;00m:\n\u001b[0;32m   1918\u001b[0m     \u001b[38;5;66;03m# error: \"ParserBase\" has no attribute \"read\"\u001b[39;00m\n\u001b[0;32m   1919\u001b[0m     (\n\u001b[0;32m   1920\u001b[0m         index,\n\u001b[0;32m   1921\u001b[0m         columns,\n\u001b[0;32m   1922\u001b[0m         col_dict,\n\u001b[1;32m-> 1923\u001b[0m     ) \u001b[38;5;241m=\u001b[39m \u001b[38;5;28;43mself\u001b[39;49m\u001b[38;5;241;43m.\u001b[39;49m\u001b[43m_engine\u001b[49m\u001b[38;5;241;43m.\u001b[39;49m\u001b[43mread\u001b[49m\u001b[43m(\u001b[49m\u001b[43m  \u001b[49m\u001b[38;5;66;43;03m# type: ignore[attr-defined]\u001b[39;49;00m\n\u001b[0;32m   1924\u001b[0m \u001b[43m        \u001b[49m\u001b[43mnrows\u001b[49m\n\u001b[0;32m   1925\u001b[0m \u001b[43m    \u001b[49m\u001b[43m)\u001b[49m\n\u001b[0;32m   1926\u001b[0m \u001b[38;5;28;01mexcept\u001b[39;00m \u001b[38;5;167;01mException\u001b[39;00m:\n\u001b[0;32m   1927\u001b[0m     \u001b[38;5;28mself\u001b[39m\u001b[38;5;241m.\u001b[39mclose()\n",
      "File \u001b[1;32mD:\\working_env\\data_process\\lib\\site-packages\\pandas\\io\\parsers\\c_parser_wrapper.py:234\u001b[0m, in \u001b[0;36mCParserWrapper.read\u001b[1;34m(self, nrows)\u001b[0m\n\u001b[0;32m    232\u001b[0m \u001b[38;5;28;01mtry\u001b[39;00m:\n\u001b[0;32m    233\u001b[0m     \u001b[38;5;28;01mif\u001b[39;00m \u001b[38;5;28mself\u001b[39m\u001b[38;5;241m.\u001b[39mlow_memory:\n\u001b[1;32m--> 234\u001b[0m         chunks \u001b[38;5;241m=\u001b[39m \u001b[38;5;28;43mself\u001b[39;49m\u001b[38;5;241;43m.\u001b[39;49m\u001b[43m_reader\u001b[49m\u001b[38;5;241;43m.\u001b[39;49m\u001b[43mread_low_memory\u001b[49m\u001b[43m(\u001b[49m\u001b[43mnrows\u001b[49m\u001b[43m)\u001b[49m\n\u001b[0;32m    235\u001b[0m         \u001b[38;5;66;03m# destructive to chunks\u001b[39;00m\n\u001b[0;32m    236\u001b[0m         data \u001b[38;5;241m=\u001b[39m _concatenate_chunks(chunks)\n",
      "File \u001b[1;32mparsers.pyx:838\u001b[0m, in \u001b[0;36mpandas._libs.parsers.TextReader.read_low_memory\u001b[1;34m()\u001b[0m\n",
      "File \u001b[1;32mparsers.pyx:905\u001b[0m, in \u001b[0;36mpandas._libs.parsers.TextReader._read_rows\u001b[1;34m()\u001b[0m\n",
      "File \u001b[1;32mparsers.pyx:874\u001b[0m, in \u001b[0;36mpandas._libs.parsers.TextReader._tokenize_rows\u001b[1;34m()\u001b[0m\n",
      "File \u001b[1;32mparsers.pyx:891\u001b[0m, in \u001b[0;36mpandas._libs.parsers.TextReader._check_tokenize_status\u001b[1;34m()\u001b[0m\n",
      "File \u001b[1;32mparsers.pyx:2061\u001b[0m, in \u001b[0;36mpandas._libs.parsers.raise_parser_error\u001b[1;34m()\u001b[0m\n",
      "\u001b[1;31mParserError\u001b[0m: Error tokenizing data. C error: Expected 227 fields in line 21008, saw 228\n"
     ]
    }
   ],
   "source": [
    "import pandas as pd\n",
    "\n",
    "df=pd.read_csv(r'root_sample.csv')"
   ]
  },
  {
   "cell_type": "code",
   "execution_count": null,
   "id": "d2d95b4d-1b21-4bc1-bfb5-b84088d777f7",
   "metadata": {},
   "outputs": [],
   "source": []
  },
  {
   "cell_type": "code",
   "execution_count": null,
   "id": "8911e214-e413-4e04-a369-d028434a0550",
   "metadata": {
    "scrolled": true
   },
   "outputs": [],
   "source": [
    "df.info(verbose=True)"
   ]
  },
  {
   "cell_type": "code",
   "execution_count": null,
   "id": "9a2a1202-15c9-4135-984b-42b620ecfc68",
   "metadata": {},
   "outputs": [],
   "source": []
  },
  {
   "cell_type": "code",
   "execution_count": null,
   "id": "4755e480-a370-4796-ac23-4ebb24c3a8eb",
   "metadata": {},
   "outputs": [],
   "source": []
  },
  {
   "cell_type": "code",
   "execution_count": null,
   "id": "7be20c78-4465-44fc-b146-df58a406d297",
   "metadata": {},
   "outputs": [],
   "source": [
    "import prefect"
   ]
  },
  {
   "cell_type": "code",
   "execution_count": null,
   "id": "20976b55-d77c-45db-bbbc-df15a4092aa8",
   "metadata": {},
   "outputs": [],
   "source": [
    "from src.utils import *"
   ]
  },
  {
   "cell_type": "code",
   "execution_count": null,
   "id": "be85de05-5900-400c-a0a1-c2a549a68b81",
   "metadata": {},
   "outputs": [],
   "source": [
    "import os\n",
    "os.getcwd()"
   ]
  },
  {
   "cell_type": "code",
   "execution_count": null,
   "id": "9873f140-5f64-4f2f-9710-4b7695b1907e",
   "metadata": {},
   "outputs": [],
   "source": [
    "df = pd.read_csv(r'pcb_2024_T01_T06.csv', nrows=1000)"
   ]
  },
  {
   "cell_type": "code",
   "execution_count": null,
   "id": "06f542a4-1b66-4a76-be49-77703ea9bd04",
   "metadata": {},
   "outputs": [],
   "source": [
    "def conso_id(id1, id2):\n",
    "    if id1 == \"'\":\n",
    "        final_id = id2\n",
    "    elif id2 == \"'\":\n",
    "        final_id = id1\n",
    "    else:\n",
    "        if id1 == id2:\n",
    "            final_id = id1\n",
    "        else:\n",
    "            final_id = id1+\"_\"+id2\n",
    "    return final_id"
   ]
  },
  {
   "cell_type": "code",
   "execution_count": null,
   "id": "203756a6-8b5c-4be2-8bde-29b7f3f13d83",
   "metadata": {},
   "outputs": [],
   "source": [
    "def get_log(row):\n",
    "    full_message = xmltodict.parse(row)\n",
    "    try:\n",
    "        to_dict = full_message['MGResponse']['RI_Req_Output']['CreditHistory']\n",
    "    except:\n",
    "        to_dict = full_message['MGResponse']['CI_Req_Output']['CreditHistory']\n",
    "    return str(to_dict)"
   ]
  },
  {
   "cell_type": "code",
   "execution_count": null,
   "id": "5d76b011-00fc-4cf6-a2a8-f3df54901426",
   "metadata": {},
   "outputs": [],
   "source": [
    "df.columns = ['id1', 'id2', 'name', 'address', 'log', 'process_date']"
   ]
  },
  {
   "cell_type": "code",
   "execution_count": null,
   "id": "e0328740-1406-4848-beaa-20c73f14ff82",
   "metadata": {},
   "outputs": [],
   "source": [
    "df['process_date'] = df['process_date'].astype(str)"
   ]
  },
  {
   "cell_type": "code",
   "execution_count": null,
   "id": "d73838c5-6858-4488-972b-01c28949172d",
   "metadata": {
    "scrolled": true
   },
   "outputs": [],
   "source": [
    "df['cccd'] = df[['id1', 'id2']].apply(lambda \n",
    "                                      row: conso_id(row.id1, row.id2),\n",
    "                                      axis=1\n",
    "                                     )"
   ]
  },
  {
   "cell_type": "code",
   "execution_count": null,
   "id": "dbf152ad-2611-4d71-a06e-ab29486652e5",
   "metadata": {},
   "outputs": [],
   "source": [
    "df['pcb'] = df['log'].apply(lambda row: get_log(row))"
   ]
  },
  {
   "cell_type": "code",
   "execution_count": null,
   "id": "5daa85ae-b999-4750-b78a-9cd0a4a70449",
   "metadata": {},
   "outputs": [],
   "source": [
    "from pip._vendor.rich.progress import (\n",
    "    Progress, SpinnerColumn, TimeElapsedColumn\n",
    ")\n",
    "\n",
    "def parse_data(process_name, df_in, field, id_lst):\n",
    "    try:\n",
    "        df_holder = []\n",
    "        total_rows = len(df_in)\n",
    "\n",
    "        with Progress(SpinnerColumn(), *Progress.get_default_columns(), TimeElapsedColumn(), transient=False) as progress:\n",
    "            task = progress.add_task(f\"Parsing {process_name}\", total=total_rows)\n",
    "            def process_row(row):    \n",
    "                explode_nest(df_holder, id_lst, row, row[field[0]])\n",
    "                progress.update(task, advance=1)\n",
    "                \n",
    "            df_in[id_lst + field].apply(process_row, axis=1)\n",
    "            df_out = pd.concat(df_holder)\n",
    "            df_out = df_out.replace('null', np.nan)\n",
    "    except KeyError:\n",
    "        df_out = pd.DataFrame()\n",
    "    return df_out\n",
    "\n",
    "def gen_id_level2(df):\n",
    "    return df['cccd'].astype(str) + '_' + df['CommonData.CBContractCode']\n",
    "\n",
    "def treat_dtype(df, col):\n",
    "    try:\n",
    "        df[col] = df[col].astype(str)\n",
    "    except KeyError:\n",
    "        pass"
   ]
  },
  {
   "cell_type": "code",
   "execution_count": null,
   "id": "d8e7bd1f-add5-47ad-9d05-f9f9f65379b7",
   "metadata": {},
   "outputs": [],
   "source": [
    "field = ['pcb']\n",
    "id_col_list = ['cccd', 'process_date']\n",
    "\n",
    "df_root = parse_data('root', df, field, id_col_list)"
   ]
  },
  {
   "cell_type": "code",
   "execution_count": null,
   "id": "81537e46-fc4f-4223-a31d-800d2f29cc43",
   "metadata": {},
   "outputs": [],
   "source": [
    "dtype_treat_lst = ['Contract.Instalments.GrantedContract',\n",
    "                  'Contract.Cards.GrantedContract',\n",
    "                  'Contract.NonInstalments.GrantedContract',\n",
    "                  'Contract.Instalments.NotGrantedContract',\n",
    "                  'Contract.Cards.NotGrantedContract',\n",
    "                  'Contract.NonInstalments.NotGrantedContract']\n",
    "for i in dtype_treat_lst:\n",
    "    treat_dtype(df_root, i)"
   ]
  },
  {
   "cell_type": "code",
   "execution_count": null,
   "id": "62e5e48d-896c-4ece-827e-366eb3aabbe9",
   "metadata": {
    "scrolled": true
   },
   "outputs": [],
   "source": [
    "id_col_list = ['cccd', 'process_date']\n",
    "\n",
    "contract_level_noninstall = parse_data('nonins', df_root, ['Contract.NonInstalments.GrantedContract'], id_col_list)\n",
    "contract_level_install = parse_data('ins', df_root, ['Contract.Instalments.GrantedContract'], id_col_list)\n",
    "contract_level_card = parse_data('card', df_root, ['Contract.Cards.GrantedContract'], id_col_list)\n",
    "\n",
    "not_grant_install = parse_data('ng_ins', df_root, ['Contract.Instalments.NotGrantedContract'], id_col_list)\n",
    "not_grant_noninstall = parse_data('ng_nonins', df_root, ['Contract.NonInstalments.NotGrantedContract'], id_col_list)\n",
    "not_grant_card = parse_data('ng_card', df_root, ['Contract.Cards.NotGrantedContract'], id_col_list)"
   ]
  },
  {
   "cell_type": "code",
   "execution_count": null,
   "id": "02d92b29-da8b-4b82-aab7-50063f4aa186",
   "metadata": {},
   "outputs": [],
   "source": [
    "contract_level_noninstall['loan_code_lv2'] = gen_id_level2(contract_level_noninstall)\n",
    "contract_level_install['loan_code_lv2'] = gen_id_level2(contract_level_install)\n",
    "contract_level_card['loan_code_lv2'] = gen_id_level2(contract_level_card)\n",
    "\n",
    "treat_dtype(contract_level_install, 'Profiles')\n",
    "treat_dtype(contract_level_install, 'InstGuarantees')\n",
    "treat_dtype(contract_level_card, 'Profiles')\n",
    "treat_dtype(contract_level_card, 'CardsGuarantees')\n",
    "treat_dtype(contract_level_noninstall, 'Profiles')"
   ]
  },
  {
   "cell_type": "code",
   "execution_count": null,
   "id": "b91d3fa1-1f25-4614-9937-2f1b3e3a4197",
   "metadata": {},
   "outputs": [],
   "source": [
    "contract_level_card = contract_level_card[~contract_level_card['loan_code_lv2'].isna()]\n",
    "contract_level_noninstall = contract_level_noninstall[~contract_level_noninstall['loan_code_lv2'].isna()]\n",
    "contract_level_install = contract_level_install[~contract_level_install['loan_code_lv2'].isna()]  "
   ]
  },
  {
   "cell_type": "code",
   "execution_count": null,
   "id": "50c368de-4e8e-4234-ba8f-027c91bc351a",
   "metadata": {},
   "outputs": [],
   "source": [
    "field = ['Profiles']\n",
    "id_col_list = ['loan_code_lv2', 'cccd', 'CommonData.CBContractCode', 'process_date']\n",
    "\n",
    "ts_card = parse_data('ts_card', contract_level_card, field, id_col_list)\n",
    "ts_install = parse_data('ts_ins', contract_level_install, field, id_col_list)\n",
    "ts_noninstall = parse_data('ts_nonins', contract_level_noninstall, field, id_col_list)"
   ]
  },
  {
   "cell_type": "code",
   "execution_count": null,
   "id": "86c4ef6a-6b0a-41fa-ab5c-d9aa36f91eaa",
   "metadata": {
    "scrolled": true
   },
   "outputs": [],
   "source": [
    "ts_card"
   ]
  },
  {
   "cell_type": "code",
   "execution_count": null,
   "id": "953f7c35-5bd2-4aee-94f9-21e572ffa465",
   "metadata": {},
   "outputs": [],
   "source": [
    "df_root.head()"
   ]
  },
  {
   "cell_type": "code",
   "execution_count": null,
   "id": "d3bf7347-204e-474d-bd60-c168c84b3f4f",
   "metadata": {},
   "outputs": [],
   "source": []
  }
 ],
 "metadata": {
  "kernelspec": {
   "display_name": "data_process",
   "language": "python",
   "name": "data_process"
  },
  "language_info": {
   "codemirror_mode": {
    "name": "ipython",
    "version": 3
   },
   "file_extension": ".py",
   "mimetype": "text/x-python",
   "name": "python",
   "nbconvert_exporter": "python",
   "pygments_lexer": "ipython3",
   "version": "3.9.12"
  }
 },
 "nbformat": 4,
 "nbformat_minor": 5
}
