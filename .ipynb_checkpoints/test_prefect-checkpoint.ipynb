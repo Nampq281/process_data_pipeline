{
 "cells": [
  {
   "cell_type": "code",
   "execution_count": null,
   "id": "284a45d5-1288-4a6a-a29f-54cab43f8f21",
   "metadata": {},
   "outputs": [],
   "source": [
    "from prefect import task, flow\n",
    "from prefect.futures import wait\n",
    "\n",
    "\n",
    "@task\n",
    "def cool_task():\n",
    "    return \"sup\"\n",
    "    \n",
    "    \n",
    "@flow\n",
    "def my_workflow():\n",
    "    futures = [cool_task.submit() for _ in range(10)]\n",
    "    wait(futures)"
   ]
  },
  {
   "cell_type": "code",
   "execution_count": null,
   "id": "d6b8b6fa-6934-4d20-a5bf-868bdea3d901",
   "metadata": {},
   "outputs": [],
   "source": []
  }
 ],
 "metadata": {
  "kernelspec": {
   "display_name": "data_process",
   "language": "python",
   "name": "data_process"
  },
  "language_info": {
   "codemirror_mode": {
    "name": "ipython",
    "version": 3
   },
   "file_extension": ".py",
   "mimetype": "text/x-python",
   "name": "python",
   "nbconvert_exporter": "python",
   "pygments_lexer": "ipython3",
   "version": "3.9.12"
  }
 },
 "nbformat": 4,
 "nbformat_minor": 5
}
